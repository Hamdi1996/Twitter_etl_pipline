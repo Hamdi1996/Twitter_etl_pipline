{
 "cells": [
  {
   "cell_type": "code",
   "execution_count": 70,
   "id": "b4e447ac-2d30-433f-87af-a844b6f8ff29",
   "metadata": {},
   "outputs": [],
   "source": [
    "import tweepy\n",
    "import pandas as pd"
   ]
  },
  {
   "cell_type": "code",
   "execution_count": 63,
   "id": "18030aa1-b7a4-4a93-9da2-58efd7bd51cb",
   "metadata": {},
   "outputs": [],
   "source": [
    "# Decalre API clinet and secrete keys"
   ]
  },
  {
   "cell_type": "code",
   "execution_count": 64,
   "id": "f2665cd0-75d2-46a2-82ba-f5fea2c4a941",
   "metadata": {},
   "outputs": [],
   "source": [
    "def twitter_credentials():\n",
    "    ACCESS_KEY = 'your_access_key'\n",
    "    ACCESS_SECRET = 'your_access_request'\n",
    "    CONSUMER_KEY = 'your_counsumer_key'\n",
    "    CONSUMER_SECRET = 'your_consumer_secret'\n",
    "    BEARER_TOKEN = 'your_bearer_token'\n",
    "    return ACCESS_KEY, ACCESS_SECRET, CONSUMER_KEY, CONSUMER_SECRET, BEARER_TOKEN"
   ]
  },
  {
   "cell_type": "code",
   "execution_count": 66,
   "id": "a20d4b48-3c49-485c-8c28-7c858e278dc8",
   "metadata": {},
   "outputs": [],
   "source": [
    "# Twitter Auth and etl pipline"
   ]
  },
  {
   "cell_type": "code",
   "execution_count": 68,
   "id": "e6a29701-85e5-4eb4-9a21-8058d44e8885",
   "metadata": {},
   "outputs": [],
   "source": [
    "def run_etl_pipline():\n",
    "    tweet_list = []\n",
    "    ACCESS_KEY, ACCESS_SECRET, CONSUMER_KEY, CONSUMER_SECRET, BEARER_TOKEN = twitter_credentials()\n",
    "    client = tweepy.Client(\n",
    "        bearer_token= BEARER_TOKEN,\n",
    "        consumer_key=CONSUMER_KEY,\n",
    "        consumer_secret= CONSUMER_SECRET,\n",
    "        access_token= ACCESS_KEY,\n",
    "        access_token_secret= ACCESS_SECRET)\n",
    "    # Fetch tweets from a user\n",
    "    tweets = client.get_users_tweets(\n",
    "        id='44196397',  # Elon Musk's user ID\n",
    "        max_results=100,  # Maximum tweets (use pagination for more)\n",
    "        tweet_fields=['created_at', 'text']\n",
    "    )\n",
    "    #Display fetched tweets\n",
    "    for tweet in tweets.data:\n",
    "        redefined_tweet = {\n",
    "            'id': tweet.id,\n",
    "            'text': tweet.text,\n",
    "            'created_at':tweet.created_at\n",
    "            }\n",
    "        tweet_list.append(redefined_tweet)\n",
    "    df = pd.DataFrame(tweet_list)\n",
    "    df.to_csv('elonmusk.csv')"
   ]
  },
  {
   "cell_type": "code",
   "execution_count": null,
   "id": "875ac1a1-dca8-4403-8cc4-7e0f3cec5fe4",
   "metadata": {},
   "outputs": [],
   "source": [
    "run_etl_pipline()"
   ]
  }
 ],
 "metadata": {
  "kernelspec": {
   "display_name": "Python 3 (ipykernel)",
   "language": "python",
   "name": "python3"
  },
  "language_info": {
   "codemirror_mode": {
    "name": "ipython",
    "version": 3
   },
   "file_extension": ".py",
   "mimetype": "text/x-python",
   "name": "python",
   "nbconvert_exporter": "python",
   "pygments_lexer": "ipython3",
   "version": "3.12.7"
  }
 },
 "nbformat": 4,
 "nbformat_minor": 5
}
